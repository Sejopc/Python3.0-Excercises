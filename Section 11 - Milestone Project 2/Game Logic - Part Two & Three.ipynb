{
 "cells": [
  {
   "cell_type": "markdown",
   "metadata": {},
   "source": [
    "We will copy-paste our 3 classes here (Cards, Deck, Player)"
   ]
  },
  {
   "cell_type": "code",
   "execution_count": 1,
   "metadata": {},
   "outputs": [],
   "source": [
    "import random # Will use it here to shuffle the deck\n",
    "\n",
    "suits = ('Hearts', 'Diamonds', 'Spades', 'Clubs')\n",
    "ranks = ('Two', 'Three', 'Four', 'Five', 'Six', 'Seven', 'Eight', 'Nine', 'Ten', 'Jack', 'Queen', 'King', 'Ace')\n",
    "\n",
    "values = {'Two':2, 'Three':3, 'Four':4, 'Five':5, 'Six':6, 'Seven':7, 'Eight':8, \n",
    "          'Nine':9, 'Ten':10, 'Jack':11, 'Queen':12, 'King':13, 'Ace':14} "
   ]
  },
  {
   "cell_type": "code",
   "execution_count": 2,
   "metadata": {},
   "outputs": [],
   "source": [
    "class Card: # No need to put parenthesis for the class if it won't be using inheritance.\n",
    "    \n",
    "    def __init__(self,suit,rank):\n",
    "        self.suit = suit\n",
    "        self.rank = rank\n",
    "        self.value = values[rank]\n",
    "        \n",
    "    def __str__(self):\n",
    "        return self.rank + \" of \" + self.suit"
   ]
  },
  {
   "cell_type": "code",
   "execution_count": 3,
   "metadata": {},
   "outputs": [],
   "source": [
    "class Deck:\n",
    "    \n",
    "    def __init__(self):\n",
    "        \n",
    "        self.all_cards = []\n",
    "        \n",
    "        for suit in suits:\n",
    "            for rank in ranks:\n",
    "                # Create the Card Object\n",
    "                created_card = Card(suit,rank)\n",
    "                \n",
    "                self.all_cards.append(created_card)\n",
    "                \n",
    "    def shuffle(self):\n",
    "        \n",
    "        random.shuffle(self.all_cards) # since this is an inplace method, no need to return anything.\n",
    "        \n",
    "    def deal_one(self):\n",
    "        \n",
    "        return self.all_cards.pop() # return and remove the last one on the list (which should be already shuffled)\n",
    "                                    # unless you specify an index to the method, i.e .pop(0), which will return the first item"
   ]
  },
  {
   "cell_type": "code",
   "execution_count": 4,
   "metadata": {},
   "outputs": [],
   "source": [
    "class Player:\n",
    "    \n",
    "    def __init__(self, name):\n",
    "        \n",
    "        # every player needs an empty hand\n",
    "        \n",
    "        self.name = name\n",
    "        self.all_cards = []\n",
    "        \n",
    "    def remove_one(self):\n",
    "        return self.all_cards.pop(0) # We need to remove the FIRST card from the list, to remove the card from Top or Beginning of the deck.\n",
    "    \n",
    "    def add_cards(self,new_cards):\n",
    "        # New cards can be a single card object, or a list of card objects\n",
    "        if type(new_cards) == type([]): # compare if 'new_cards' object is a list\n",
    "            self.all_cards.extend(new_cards)\n",
    "        else:\n",
    "            self.all_cards.append(new_cards) # single card object\n",
    "    \n",
    "    def __str__(self):\n",
    "        return f'Player {self.name} has {len(self.all_cards)} cards.'"
   ]
  },
  {
   "cell_type": "code",
   "execution_count": 48,
   "metadata": {},
   "outputs": [],
   "source": [
    "# GAME SETUP\n",
    "\n",
    "# Create players\n",
    "player_one = Player(\"One\")\n",
    "player_two = Player(\"Two\")\n",
    "\n",
    "# Create and shuffle Deck\n",
    "new_deck = Deck()\n",
    "new_deck.shuffle()\n",
    "\n",
    "# Split Deck between Players\n",
    "for i in range(26): # 26 is half of 52 (which is the lenght of the deck)\n",
    "    player_one.add_cards(new_deck.deal_one())\n",
    "    player_two.add_cards(new_deck.deal_one())"
   ]
  },
  {
   "cell_type": "code",
   "execution_count": 49,
   "metadata": {},
   "outputs": [
    {
     "data": {
      "text/plain": [
       "26"
      ]
     },
     "execution_count": 49,
     "metadata": {},
     "output_type": "execute_result"
    }
   ],
   "source": [
    "# Confirm each player has 26 cards\n",
    "    len(player_one.all_cards)"
   ]
  },
  {
   "cell_type": "code",
   "execution_count": 50,
   "metadata": {},
   "outputs": [
    {
     "name": "stdout",
     "output_type": "stream",
     "text": [
      "Nine of Diamonds\n"
     ]
    }
   ],
   "source": [
    "print(player_one.all_cards[0])"
   ]
  },
  {
   "cell_type": "code",
   "execution_count": 51,
   "metadata": {},
   "outputs": [
    {
     "data": {
      "text/plain": [
       "26"
      ]
     },
     "execution_count": 51,
     "metadata": {},
     "output_type": "execute_result"
    }
   ],
   "source": [
    "len(player_two.all_cards)"
   ]
  },
  {
   "cell_type": "code",
   "execution_count": 52,
   "metadata": {},
   "outputs": [
    {
     "name": "stdout",
     "output_type": "stream",
     "text": [
      "Jack of Spades\n"
     ]
    }
   ],
   "source": [
    "print(player_two.all_cards[0])"
   ]
  },
  {
   "cell_type": "code",
   "execution_count": 53,
   "metadata": {},
   "outputs": [
    {
     "name": "stdout",
     "output_type": "stream",
     "text": [
      "Round 1 - P1: Player One has 26 cards.\tP2: Player Two has 26 cards.\n",
      "Round 2 - P1: Player One has 25 cards.\tP2: Player Two has 27 cards.\n",
      "Round 3 - P1: Player One has 26 cards.\tP2: Player Two has 26 cards.\n",
      "Round 4 - P1: Player One has 27 cards.\tP2: Player Two has 25 cards.\n",
      "Round 5 - P1: Player One has 26 cards.\tP2: Player Two has 26 cards.\n",
      "Round 6 - P1: Player One has 27 cards.\tP2: Player Two has 25 cards.\n",
      "Round 7 - P1: Player One has 26 cards.\tP2: Player Two has 26 cards.\n",
      "Round 8 - P1: Player One has 27 cards.\tP2: Player Two has 25 cards.\n",
      "Round 9 - P1: Player One has 26 cards.\tP2: Player Two has 26 cards.\n",
      "Round 10 - P1: Player One has 25 cards.\tP2: Player Two has 27 cards.\n",
      "Round 11 - P1: Player One has 26 cards.\tP2: Player Two has 26 cards.\n",
      "Round 12 - P1: Player One has 25 cards.\tP2: Player Two has 27 cards.\n",
      "Round 13 - P1: Player One has 24 cards.\tP2: Player Two has 28 cards.\n",
      "Round 14 - P1: Player One has 25 cards.\tP2: Player Two has 27 cards.\n",
      "Round 15 - P1: Player One has 24 cards.\tP2: Player Two has 28 cards.\n",
      "Round 16 - P1: Player One has 23 cards.\tP2: Player Two has 29 cards.\n",
      "Round 17 - P1: Player One has 24 cards.\tP2: Player Two has 28 cards.\n",
      "Round 18 - P1: Player One has 23 cards.\tP2: Player Two has 29 cards.\n",
      "Round 19 - P1: Player One has 24 cards.\tP2: Player Two has 28 cards.\n",
      "Round 20 - P1: Player One has 23 cards.\tP2: Player Two has 29 cards.\n",
      "Round 21 - P1: Player One has 22 cards.\tP2: Player Two has 30 cards.\n",
      "Round 22 - P1: Player One has 21 cards.\tP2: Player Two has 31 cards.\n",
      "Round 23 - P1: Player One has 22 cards.\tP2: Player Two has 30 cards.\n",
      "Round 24 - P1: Player One has 21 cards.\tP2: Player Two has 31 cards.\n",
      "Round 25 - P1: Player One has 22 cards.\tP2: Player Two has 30 cards.\n",
      "Round 26 - P1: Player One has 23 cards.\tP2: Player Two has 29 cards.\n",
      "Round 27 - P1: Player One has 22 cards.\tP2: Player Two has 30 cards.\n",
      "Round 28 - P1: Player One has 21 cards.\tP2: Player Two has 31 cards.\n",
      "Round 29 - P1: Player One has 20 cards.\tP2: Player Two has 32 cards.\n",
      "Round 30 - P1: Player One has 21 cards.\tP2: Player Two has 31 cards.\n",
      "Round 31 - P1: Player One has 22 cards.\tP2: Player Two has 30 cards.\n",
      "Round 32 - P1: Player One has 21 cards.\tP2: Player Two has 31 cards.\n",
      "WAR!\n",
      "Round 33 - P1: Player One has 27 cards.\tP2: Player Two has 25 cards.\n",
      "Round 34 - P1: Player One has 28 cards.\tP2: Player Two has 24 cards.\n",
      "Round 35 - P1: Player One has 29 cards.\tP2: Player Two has 23 cards.\n",
      "Round 36 - P1: Player One has 28 cards.\tP2: Player Two has 24 cards.\n",
      "Round 37 - P1: Player One has 29 cards.\tP2: Player Two has 23 cards.\n",
      "WAR!\n",
      "Round 38 - P1: Player One has 35 cards.\tP2: Player Two has 17 cards.\n",
      "Round 39 - P1: Player One has 36 cards.\tP2: Player Two has 16 cards.\n",
      "Round 40 - P1: Player One has 37 cards.\tP2: Player Two has 15 cards.\n",
      "Round 41 - P1: Player One has 38 cards.\tP2: Player Two has 14 cards.\n",
      "Round 42 - P1: Player One has 37 cards.\tP2: Player Two has 15 cards.\n",
      "Round 43 - P1: Player One has 36 cards.\tP2: Player Two has 16 cards.\n",
      "Round 44 - P1: Player One has 35 cards.\tP2: Player Two has 17 cards.\n",
      "Round 45 - P1: Player One has 36 cards.\tP2: Player Two has 16 cards.\n",
      "Round 46 - P1: Player One has 35 cards.\tP2: Player Two has 17 cards.\n",
      "Round 47 - P1: Player One has 36 cards.\tP2: Player Two has 16 cards.\n",
      "Round 48 - P1: Player One has 35 cards.\tP2: Player Two has 17 cards.\n",
      "Round 49 - P1: Player One has 36 cards.\tP2: Player Two has 16 cards.\n",
      "Round 50 - P1: Player One has 35 cards.\tP2: Player Two has 17 cards.\n",
      "Round 51 - P1: Player One has 36 cards.\tP2: Player Two has 16 cards.\n",
      "Round 52 - P1: Player One has 35 cards.\tP2: Player Two has 17 cards.\n",
      "Round 53 - P1: Player One has 36 cards.\tP2: Player Two has 16 cards.\n",
      "WAR!\n",
      "Round 54 - P1: Player One has 42 cards.\tP2: Player Two has 10 cards.\n",
      "Round 55 - P1: Player One has 43 cards.\tP2: Player Two has 9 cards.\n",
      "Round 56 - P1: Player One has 44 cards.\tP2: Player Two has 8 cards.\n",
      "Round 57 - P1: Player One has 43 cards.\tP2: Player Two has 9 cards.\n",
      "Round 58 - P1: Player One has 44 cards.\tP2: Player Two has 8 cards.\n",
      "Round 59 - P1: Player One has 43 cards.\tP2: Player Two has 9 cards.\n",
      "Round 60 - P1: Player One has 44 cards.\tP2: Player Two has 8 cards.\n",
      "Round 61 - P1: Player One has 43 cards.\tP2: Player Two has 9 cards.\n",
      "Round 62 - P1: Player One has 44 cards.\tP2: Player Two has 8 cards.\n",
      "Round 63 - P1: Player One has 43 cards.\tP2: Player Two has 9 cards.\n",
      "Round 64 - P1: Player One has 44 cards.\tP2: Player Two has 8 cards.\n",
      "Round 65 - P1: Player One has 43 cards.\tP2: Player Two has 9 cards.\n",
      "Round 66 - P1: Player One has 44 cards.\tP2: Player Two has 8 cards.\n",
      "Round 67 - P1: Player One has 45 cards.\tP2: Player Two has 7 cards.\n",
      "Round 68 - P1: Player One has 44 cards.\tP2: Player Two has 8 cards.\n",
      "Round 69 - P1: Player One has 45 cards.\tP2: Player Two has 7 cards.\n",
      "Round 70 - P1: Player One has 44 cards.\tP2: Player Two has 8 cards.\n",
      "Round 71 - P1: Player One has 43 cards.\tP2: Player Two has 9 cards.\n",
      "Round 72 - P1: Player One has 44 cards.\tP2: Player Two has 8 cards.\n",
      "Round 73 - P1: Player One has 43 cards.\tP2: Player Two has 9 cards.\n",
      "Round 74 - P1: Player One has 42 cards.\tP2: Player Two has 10 cards.\n",
      "Round 75 - P1: Player One has 43 cards.\tP2: Player Two has 9 cards.\n",
      "WAR!\n",
      "Round 76 - P1: Player One has 37 cards.\tP2: Player Two has 15 cards.\n",
      "WAR!\n",
      "Round 77 - P1: Player One has 43 cards.\tP2: Player Two has 9 cards.\n",
      "Round 78 - P1: Player One has 42 cards.\tP2: Player Two has 10 cards.\n",
      "Round 79 - P1: Player One has 43 cards.\tP2: Player Two has 9 cards.\n",
      "Round 80 - P1: Player One has 42 cards.\tP2: Player Two has 10 cards.\n",
      "Round 81 - P1: Player One has 41 cards.\tP2: Player Two has 11 cards.\n",
      "Round 82 - P1: Player One has 40 cards.\tP2: Player Two has 12 cards.\n",
      "Round 83 - P1: Player One has 41 cards.\tP2: Player Two has 11 cards.\n",
      "Round 84 - P1: Player One has 40 cards.\tP2: Player Two has 12 cards.\n",
      "Round 85 - P1: Player One has 39 cards.\tP2: Player Two has 13 cards.\n",
      "Round 86 - P1: Player One has 38 cards.\tP2: Player Two has 14 cards.\n",
      "WAR!\n",
      "Round 87 - P1: Player One has 44 cards.\tP2: Player Two has 8 cards.\n",
      "Round 88 - P1: Player One has 43 cards.\tP2: Player Two has 9 cards.\n",
      "Round 89 - P1: Player One has 44 cards.\tP2: Player Two has 8 cards.\n",
      "WAR!\n",
      "Round 90 - P1: Player One has 50 cards.\tP2: Player Two has 2 cards.\n",
      "WAR!\n",
      "Player Two unable to declare war.\n",
      "PLAYER ONE WINS!\n"
     ]
    }
   ],
   "source": [
    "game_on = True\n",
    "# while game_on ### while game has not finished, do...\n",
    "round_num = 0\n",
    "\n",
    "while game_on:\n",
    "    round_num += 1\n",
    "    print(f\"Round {round_num} - P1: {str(player_one)}\\tP2: {str(player_two)}\")\n",
    "    \n",
    "    if len(player_one.all_cards) == 0:\n",
    "        print(\"Player One, Out of Cards! - Player Two Wins!\")\n",
    "        game_on = False\n",
    "        break # break here is optional, as game_on is False already.\n",
    "        \n",
    "    if len(player_two.all_cards) == 0:\n",
    "        print(\"Player Two, Out of Cards! - Player One Wins!\")\n",
    "        game_on = False\n",
    "        break # break here is optional, as game_on is False already.\n",
    "        \n",
    "        \n",
    "    # START A NEW ROUND\n",
    "    player_one_cards = [] # card(s) that player one will put on table from their deck.\n",
    "    player_one_cards.append(player_one.remove_one())\n",
    "    \n",
    "    player_two_cards = [] # card(s) that player two will put on table from their deck.\n",
    "    player_two_cards.append(player_two.remove_one())\n",
    "    \n",
    "    # CHECKS (We will check player's cards against each other)\n",
    "    # Player One Card > Player Two Card\n",
    "    # Player One Card < Player Two Card\n",
    "    # Player one Card == Player Two Card (we are at war here!)\n",
    "    \n",
    "    # RULE NOTES: \n",
    "    # When a war occurs, we will add 5 additional cards from our player's deck (in other words, we need to have at least 5 addtl. card in our hand).\n",
    "    # Player will lose if they dont have 5 cards to play the war.\n",
    "    \n",
    "    # while at_war ### while both players have an equal value card, we are at war, until they have different ones\n",
    "    at_war = True\n",
    "    \n",
    "    while at_war:\n",
    "        \n",
    "        if player_one_cards[-1].value > player_two_cards[-1].value: #-1 as we are grabbing the last card on player's deck\n",
    "            player_one.add_cards(player_one_cards)\n",
    "            player_one.add_cards(player_two_cards)\n",
    "            \n",
    "            at_war = False\n",
    "            \n",
    "        elif player_two_cards[-1].value > player_one_cards[-1].value: #-1 as we are grabbing the last card on player's deck\n",
    "            player_two.add_cards(player_two_cards)\n",
    "            player_two.add_cards(player_one_cards)\n",
    "            \n",
    "            at_war = False\n",
    "            \n",
    "        else: # both players put an equal card\n",
    "            print('WAR!')\n",
    "            if len(player_one.all_cards) < 5:\n",
    "                print(\"Player One unable to declare war.\")\n",
    "                print(\"PLAYER TWO WINS!\")\n",
    "                game_on = False # will break from \"while game_on\" loop\n",
    "                break # will break from \"while at_war\" loop\n",
    "            elif len(player_two.all_cards) < 5:\n",
    "                print(\"Player Two unable to declare war.\")\n",
    "                print(\"PLAYER ONE WINS!\")\n",
    "                game_on = False # will break from \"while game_on\" loop\n",
    "                break # will break from \"while at_war\" loop\n",
    "            else:\n",
    "                for num in range(5):\n",
    "                    player_one_cards.append(player_one.remove_one())\n",
    "                    player_two_cards.append(player_two.remove_one())\n",
    "        "
   ]
  },
  {
   "cell_type": "code",
   "execution_count": null,
   "metadata": {},
   "outputs": [],
   "source": []
  }
 ],
 "metadata": {
  "kernelspec": {
   "display_name": "Python 3",
   "language": "python",
   "name": "python3"
  },
  "language_info": {
   "codemirror_mode": {
    "name": "ipython",
    "version": 3
   },
   "file_extension": ".py",
   "mimetype": "text/x-python",
   "name": "python",
   "nbconvert_exporter": "python",
   "pygments_lexer": "ipython3",
   "version": "3.6.8"
  }
 },
 "nbformat": 4,
 "nbformat_minor": 2
}
