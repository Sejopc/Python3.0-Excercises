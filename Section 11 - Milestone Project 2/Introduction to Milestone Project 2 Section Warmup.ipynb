{
 "cells": [
  {
   "cell_type": "markdown",
   "metadata": {},
   "source": [
    "We will re-create \"War\" game.\n",
    "\n",
    "We will be using OOP for creating this game.\n",
    "\n",
    "To construct this game, we will create:\n",
    "- Card Class\n",
    "- Deck Class\n",
    "- Player Class\n",
    "- Game Logic"
   ]
  }
 ],
 "metadata": {
  "kernelspec": {
   "display_name": "Python 3",
   "language": "python",
   "name": "python3"
  },
  "language_info": {
   "codemirror_mode": {
    "name": "ipython",
    "version": 3
   },
   "file_extension": ".py",
   "mimetype": "text/x-python",
   "name": "python",
   "nbconvert_exporter": "python",
   "pygments_lexer": "ipython3",
   "version": "3.6.8"
  }
 },
 "nbformat": 4,
 "nbformat_minor": 2
}
