{
 "cells": [
  {
   "cell_type": "markdown",
   "metadata": {},
   "source": [
    "This library allows to run your own tests.\n",
    "\n",
    "We will create 2 scripts.\n",
    "\n",
    "1 that capitalizes text, and the other one is going to be the actual test script for this. We need OOP knowledge here, because we use \"Test\" class.\n"
   ]
  },
  {
   "cell_type": "markdown",
   "metadata": {},
   "source": [
    "We will create the following files:\n",
    "    \n",
    "- cap.py\n",
    "- test_cap.py"
   ]
  },
  {
   "cell_type": "markdown",
   "metadata": {},
   "source": [
    "Run the test:\n",
    "    \n",
    "└──╼ $python test_cap.py"
   ]
  },
  {
   "cell_type": "code",
   "execution_count": 2,
   "metadata": {},
   "outputs": [],
   "source": [
    "# NOTE: If we use \"capitalize()\" method above, and run the test_cap.py unittest,\n",
    "# it will give us an error because it only capitalizes the first letter.\n",
    "# If we use \"title()\" method above, we no longer receive errors, because it does capitalize\n",
    "# all the words, as our unittest test expects (check test_cap.py for the expected result)"
   ]
  },
  {
   "cell_type": "code",
   "execution_count": null,
   "metadata": {},
   "outputs": [],
   "source": []
  }
 ],
 "metadata": {
  "kernelspec": {
   "display_name": "Python 3",
   "language": "python",
   "name": "python3"
  },
  "language_info": {
   "codemirror_mode": {
    "name": "ipython",
    "version": 3
   },
   "file_extension": ".py",
   "mimetype": "text/x-python",
   "name": "python",
   "nbconvert_exporter": "python",
   "pygments_lexer": "ipython3",
   "version": "3.6.8"
  }
 },
 "nbformat": 4,
 "nbformat_minor": 2
}
