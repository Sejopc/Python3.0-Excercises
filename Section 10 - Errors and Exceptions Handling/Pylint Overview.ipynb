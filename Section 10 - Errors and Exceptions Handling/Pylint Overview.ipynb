{
 "cells": [
  {
   "cell_type": "markdown",
   "metadata": {},
   "source": [
    "When we begin to expand to larger multi-file projects, it becomes important to have tests in place.\n",
    "\n",
    "This way as you make changes or update your code, you can run your test files to make sure previous code still runs as expected.\n"
   ]
  },
  {
   "cell_type": "markdown",
   "metadata": {},
   "source": [
    "Testing tools:\n",
    "    \n",
    "    - pylint: This is a library that looks at your code and reports back possible issues.\n",
    "    - unittest: Built-in library that will allow to test your own programs and check you are getting the desired outputs.\n",
    "    \n",
    "   \n",
    "There are several others tools.\n",
    "\n",
    "We can use pylint to check our code for possible errors and styling (by styling, we mean style convetion rules known as \"PEP 8\" in Python). Afterwards, we will explore how to test our code with built-in unittest library\n"
   ]
  },
  {
   "cell_type": "raw",
   "metadata": {},
   "source": [
    "==Instructions==\n",
    "\n",
    "Install Pylint:\n",
    "└──╼ $pip3 install pylint"
   ]
  },
  {
   "cell_type": "raw",
   "metadata": {},
   "source": [
    "I used simple1.py with a python error inside of it. For checking the file use:\n",
    "    \n",
    "└──╼ $pylint simple1.py\n",
    "************* Module simple1\n",
    "simple1.py:1:0: C0111: Missing module docstring (missing-docstring)\n",
    "simple1.py:1:0: C0103: Constant name \"a\" doesn't conform to UPPER_CASE naming style (invalid-name)\n",
    "simple1.py:2:0: C0103: Constant name \"b\" doesn't conform to UPPER_CASE naming style (invalid-name)\n",
    "simple1.py:4:6: E0602: Undefined variable 'B' (undefined-variable)\n",
    "\n",
    "----------------------------------------------------------------------\n",
    "Your code has been rated at -10.00/10 (previous run: -10.00/10, +0.00)\n",
    "\n",
    "NOTE: Error in the output above start with the letter 'E', as \"E0602: Undefined variable 'B'\"\n",
    "\n",
    "Or in report mode:\n",
    "\n",
    "└──╼ $pylint simple1.py -r y\n",
    "<OMITING OUTPUT BECAUSE IS TOO LARGE>\n",
    "\n",
    "Analyze the output for checking all possible stuff we can do to increase or improve our final rate"
   ]
  },
  {
   "cell_type": "raw",
   "metadata": {},
   "source": [
    "We create another file \"simple2.py\" and try to follow best practices on code and not have any error. Then just run pylint against it again:\n",
    "    \n",
    "└──╼ $pylint simple2.py -r y\n",
    "\n",
    "Analyze the output. We received 10/10\n",
    "\n",
    "-------------------------------------------------------------------\n",
    "Your code has been rated at 10.00/10 (previous run: 8.33/10, +1.67)"
   ]
  },
  {
   "cell_type": "code",
   "execution_count": null,
   "metadata": {},
   "outputs": [],
   "source": []
  }
 ],
 "metadata": {
  "kernelspec": {
   "display_name": "Python 3",
   "language": "python",
   "name": "python3"
  },
  "language_info": {
   "codemirror_mode": {
    "name": "ipython",
    "version": 3
   },
   "file_extension": ".py",
   "mimetype": "text/x-python",
   "name": "python",
   "nbconvert_exporter": "python",
   "pygments_lexer": "ipython3",
   "version": "3.6.8"
  }
 },
 "nbformat": 4,
 "nbformat_minor": 2
}
