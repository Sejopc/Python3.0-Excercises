{
 "cells": [
  {
   "cell_type": "markdown",
   "metadata": {},
   "source": [
    "if __name__ == \"__main__\":  -> it is usually placed at the end of larger .py files\n",
    "\n",
    "Sometimes, when you are importing from a module, you would like to know whether a modules function is being used as an import, or if you are using the original .py file of that module.\n",
    "\n",
    "We will create 2 simple .py scripts to explain this:\n",
    "\n",
    "one.py\n",
    "two.py\n",
    "\n",
    "Identation level 0 code will be run, and Identation level 0 functions and classes will be defined, when we import the modules (using \"import <module>\" or \"from <package> import <module>\"). By Identation level 0 we mean the first identation of code, i.e:\n",
    "\n",
    "print('hello') -> identation level 0. Will be run.\n",
    "\n",
    "def myfunc(): -> identation level 0. Will be defined.\n",
    "    print('hello') -> identation level 1.\n",
    "    \n",
    "__name__ -> Python Built-in variable.\n",
    "\n",
    "When we run a script directly (i.e python one.py), the built-in variable __name__ will be assigned a value of \"__main__\". \n",
    "\n",
    "Check one.py and two.py files for understanding how it works. And then run just them:\n",
    "\n",
    "└──╼ $python one.py\n",
    "hello\n",
    "Top level in one.py\n",
    "one.py is being run directly.\n",
    "\n",
    "└──╼ $python two.py\n",
    "hello\n",
    "Top level in one.py\n",
    "one.py has been imported!\n",
    "Top level in two.py\n",
    "func() in one.py\n",
    "two.py is being run directly!\n",
    "\n",
    "So in summary, the __name__ variable allows you to see whether something is being imported or run directly.\n",
    "\n",
    "The standard is to define functions to be run below the \" if __name__ == '__main__': \" statement, i.e:\n",
    "\n",
    "if __name__ == '__main__':\n",
    "    function1()\n",
    "    function2()\n",
    "    ## more logic.\n"
   ]
  }
 ],
 "metadata": {
  "kernelspec": {
   "display_name": "Python 3",
   "language": "python",
   "name": "python3"
  },
  "language_info": {
   "codemirror_mode": {
    "name": "ipython",
    "version": 3
   },
   "file_extension": ".py",
   "mimetype": "text/x-python",
   "name": "python",
   "nbconvert_exporter": "python",
   "pygments_lexer": "ipython3",
   "version": "3.6.8"
  }
 },
 "nbformat": 4,
 "nbformat_minor": 2
}
