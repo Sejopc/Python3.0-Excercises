{
 "cells": [
  {
   "cell_type": "markdown",
   "metadata": {},
   "source": [
    "Modules are just .py scripts that you can call in another .py script.\n",
    "\n",
    "Packages are a collection of modules.\n",
    "\n",
    "We need to place __init__.py file inside a folder to let python know that this collection of Py scripts should be treated as an entire package.\n",
    "\n",
    "Inside this directory, I created \"mymodule.py\" and \"myprogram.py\" files to import the function from \"mymodule.py\" into \"myprogram.py\".\n",
    "\n",
    "$python myprogram.py\n",
    "Hey, I am in mymodule.py\n",
    "\n",
    "== Creating a package (composed of modules) ==\n",
    "\n",
    "To let Python know that it should not treat folders as regular directories, but as an actual package, we need to place a file \"__init__.py\" inside the directory.\n",
    "\n",
    "There's no need to place any information inside this \"__init__.py\" file, it can be left blank.\n",
    "\n",
    "For this example I created 2 folders:\n",
    "- MyMainPackage\n",
    "- SubPackage\n",
    "\n",
    "And the \"myprogram.py\" will call these folders are packages.\n",
    "\n",
    "So, from \"myprogram.py\" file, I will import these packages:\n",
    "from MyMainPackage import some_main_script # import from package\n",
    "from MyMainPackage.SubPackage import mysubscript # import from package inside a package\n",
    "\n",
    "And then call their functions:\n",
    "\n",
    "some_main_script.report_main()\n",
    "\n",
    "mysubscript.subscript_report()\n",
    "\n",
    "And then simply run it like:\n",
    "\n",
    "└──╼ $python myprogram.py\n",
    "Hey, I am in mymodule.py\n",
    "Hey, I am in some_main_script.py in main package.\n",
    "Hey I am a function inside mysubscript.py\n",
    "\n",
    "We can even import only specific functions from a python package. "
   ]
  }
 ],
 "metadata": {
  "kernelspec": {
   "display_name": "Python 3",
   "language": "python",
   "name": "python3"
  },
  "language_info": {
   "codemirror_mode": {
    "name": "ipython",
    "version": 3
   },
   "file_extension": ".py",
   "mimetype": "text/x-python",
   "name": "python",
   "nbconvert_exporter": "python",
   "pygments_lexer": "ipython3",
   "version": "3.6.8"
  }
 },
 "nbformat": 4,
 "nbformat_minor": 2
}
