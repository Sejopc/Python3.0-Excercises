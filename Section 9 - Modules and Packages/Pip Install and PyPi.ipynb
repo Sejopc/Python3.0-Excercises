{
 "cells": [
  {
   "cell_type": "markdown",
   "metadata": {},
   "source": [
    "PyPi is a repository for open-source third-party Python packages.\n",
    "\n",
    "It's similar to RubyGems in the Ruby World, PHP's Packagist, CPAN for Perl, and NPM for Node.js"
   ]
  },
  {
   "cell_type": "markdown",
   "metadata": {},
   "source": [
    "There are many libraries available that people have open sourced and shared on PyPi."
   ]
  },
  {
   "cell_type": "markdown",
   "metadata": {},
   "source": [
    "We can use pip install to install this external packages at your command line directly from PyPi repository"
   ]
  },
  {
   "cell_type": "raw",
   "metadata": {},
   "source": [
    "Example:\n",
    "    \n",
    "$ pip install colorama\n",
    "$ python\n",
    ">>> from colorama import init\n",
    ">>> init()\n",
    ">>> from colorama import Fore\n",
    ">>> print(Fore.RED + \"some red text\")\n",
    ">>> print(Fore.GREEN + \"Switched to green\")"
   ]
  },
  {
   "cell_type": "code",
   "execution_count": null,
   "metadata": {},
   "outputs": [],
   "source": []
  }
 ],
 "metadata": {
  "kernelspec": {
   "display_name": "Python 3",
   "language": "python",
   "name": "python3"
  },
  "language_info": {
   "codemirror_mode": {
    "name": "ipython",
    "version": 3
   },
   "file_extension": ".py",
   "mimetype": "text/x-python",
   "name": "python",
   "nbconvert_exporter": "python",
   "pygments_lexer": "ipython3",
   "version": "3.6.8"
  }
 },
 "nbformat": 4,
 "nbformat_minor": 2
}
