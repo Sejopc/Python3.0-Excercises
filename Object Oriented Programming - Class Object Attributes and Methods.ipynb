{
 "cells": [
  {
   "cell_type": "code",
   "execution_count": 1,
   "metadata": {},
   "outputs": [],
   "source": [
    "class Dog():\n",
    "    \n",
    "    # CLASS OBJECT ATTRIBUTE.\n",
    "    # SAME FOR ANY INSTANCE OF A CLASS (A SHARED ATTRIBUTE AMONG ALL INSTANCES OF THE CLASS, WHICH WILL NEVER CHANGE.)\n",
    "    species = 'Mammal' # No need to use self keyword because user don't define it when calling the instance, as it will\n",
    "                        # be the same among ALL.\n",
    "    \n",
    "    \n",
    "    def __init__(self, breed, name, spots):\n",
    "        self.breed = breed # String\n",
    "        self.name = name   # String\n",
    "        self.spots = spots # Boolean (True/False)"
   ]
  },
  {
   "cell_type": "code",
   "execution_count": 2,
   "metadata": {},
   "outputs": [],
   "source": [
    "my_dog = Dog(breed='Yorkie', name='Kira', spots=False)"
   ]
  },
  {
   "cell_type": "code",
   "execution_count": 4,
   "metadata": {},
   "outputs": [
    {
     "data": {
      "text/plain": [
       "'Mammal'"
      ]
     },
     "execution_count": 4,
     "metadata": {},
     "output_type": "execute_result"
    }
   ],
   "source": [
    "my_dog.species # If we press TAB, we can see it now has 'species' Attribute, which will be the same regardless the\n",
    "        # instance of the class."
   ]
  },
  {
   "cell_type": "markdown",
   "metadata": {},
   "source": [
    "METHODS are esentially functions defined inside the body of the class and they are used to perform operations that\n",
    "sometimes utilize the actual attributes (breed, name, spots) of the object (my_dog) we created.\n",
    "\n",
    "In other words, METHODS are functions acting on an object that take the object itself into account through the use of\n",
    "the 'self' argument or 'self' keyword."
   ]
  },
  {
   "cell_type": "code",
   "execution_count": 10,
   "metadata": {},
   "outputs": [],
   "source": [
    "class Dog_with_method():\n",
    "    \n",
    "    def __init__(self, breed, name):\n",
    "        self.breed = breed\n",
    "        self.name = name\n",
    "        \n",
    "    # Operations/Actions --> Methods (they look like functions inside of a class).\n",
    "    def bark(self): # We define self for the same reason (so it connects to the actual instance calling the class or\n",
    "                    # method in this case.)\n",
    "        print('WOOF! My name is {}'.format(self.name)) # We use 'self' as defined as parameter in the function to know\n",
    "                                                        # what instance we are in.\n",
    "        # Note: When calling the attribute to be printed, you have to pass the Instance of the dog's name(self.name).\n",
    "        # This, since if we call 'name' it won't know what's its value as the \"variable\" or \"parameter\" is not defined\n",
    "        # on the class, but only on the constructor of this class. What really holds the value, are the self.[attrs]\n",
    "        # variables."
   ]
  },
  {
   "cell_type": "code",
   "execution_count": 11,
   "metadata": {},
   "outputs": [],
   "source": [
    "my_dog_method = Dog_with_method('Yorkie', 'Kira') # no need to use the parameter names"
   ]
  },
  {
   "cell_type": "code",
   "execution_count": 12,
   "metadata": {},
   "outputs": [
    {
     "data": {
      "text/plain": [
       "__main__.Dog_with_method"
      ]
     },
     "execution_count": 12,
     "metadata": {},
     "output_type": "execute_result"
    }
   ],
   "source": [
    "type(my_dog_method)"
   ]
  },
  {
   "cell_type": "code",
   "execution_count": 13,
   "metadata": {},
   "outputs": [
    {
     "name": "stdout",
     "output_type": "stream",
     "text": [
      "WOOF! My name is Kira\n"
     ]
    }
   ],
   "source": [
    "my_dog_method.bark() # Shift + TAB and now you can see the Method for the class.\n",
    "\n",
    "# NOTE: On attributes (such as calling my_dog_method.name) you never use the () at the end, because is not really \n",
    "# something that you are executing, but is just a characteristic of the object. However, when calling methods, you do\n",
    "# have to put () to call it."
   ]
  },
  {
   "cell_type": "code",
   "execution_count": 18,
   "metadata": {},
   "outputs": [],
   "source": [
    "class Dog_method_arguments():\n",
    "    \n",
    "    def __init__(self, breed, name):\n",
    "        self.breed = breed\n",
    "        self.name = name\n",
    "        \n",
    "    def bark(self, number): # Methods can also take outside arguments. So when you call bark() you will need to pass it the\n",
    "                    # arguments you defined.\n",
    "        print('WOOF! My name is {} and the number is {}'.format(self.name, number))\n",
    "        # NOTE the difference in the .format() method and how we call the \"variables\". We dont use self.number because\n",
    "        # number is already being provided for us when manually called the function. It is not referencing some \n",
    "        # particular attribute for the instance of the class."
   ]
  },
  {
   "cell_type": "code",
   "execution_count": 19,
   "metadata": {},
   "outputs": [],
   "source": [
    "my_dog_arguments = Dog_method_arguments('Yorkie', 'Kira')"
   ]
  },
  {
   "cell_type": "code",
   "execution_count": 20,
   "metadata": {},
   "outputs": [
    {
     "data": {
      "text/plain": [
       "__main__.Dog_method_arguments"
      ]
     },
     "execution_count": 20,
     "metadata": {},
     "output_type": "execute_result"
    }
   ],
   "source": [
    "type(my_dog_arguments)"
   ]
  },
  {
   "cell_type": "code",
   "execution_count": 21,
   "metadata": {},
   "outputs": [
    {
     "name": "stdout",
     "output_type": "stream",
     "text": [
      "WOOF! My name is Kira and the number is 10\n"
     ]
    }
   ],
   "source": [
    "my_dog_arguments.bark(10) # Shift + TAB and you will you need to pass number parameter."
   ]
  },
  {
   "cell_type": "code",
   "execution_count": null,
   "metadata": {},
   "outputs": [],
   "source": []
  },
  {
   "cell_type": "code",
   "execution_count": null,
   "metadata": {},
   "outputs": [],
   "source": []
  },
  {
   "cell_type": "code",
   "execution_count": null,
   "metadata": {},
   "outputs": [],
   "source": []
  },
  {
   "cell_type": "markdown",
   "metadata": {},
   "source": [
    "LET'S PUT ALL TOGETHER"
   ]
  },
  {
   "cell_type": "code",
   "execution_count": 68,
   "metadata": {},
   "outputs": [],
   "source": [
    "class Circle():\n",
    "    \n",
    "    # Class Object Attribute\n",
    "    pi = 3.14\n",
    "    \n",
    "    def __init__(self, radius=1): # We assign radius default value in case none is provided.\n",
    "        self.radius = radius\n",
    "    \n",
    "        # We can also define attributes manually, i.e not being passed as arguments to the class instance.\n",
    "        self.area = radius * radius * self.pi \n",
    "        # NOTE: We could've also call 'pi' by saying Circle.pi (works if it's a Class Object Attribute only.) instead of\n",
    "        # self.pi\n",
    "        \n",
    "    # Method\n",
    "    def get_circumference(self):\n",
    "        return self.radius * self.pi * 2 # Also here, we can use Circle.pi."
   ]
  },
  {
   "cell_type": "code",
   "execution_count": 60,
   "metadata": {},
   "outputs": [],
   "source": [
    "my_circle = Circle()"
   ]
  },
  {
   "cell_type": "code",
   "execution_count": 61,
   "metadata": {},
   "outputs": [
    {
     "data": {
      "text/plain": [
       "__main__.Circle"
      ]
     },
     "execution_count": 61,
     "metadata": {},
     "output_type": "execute_result"
    }
   ],
   "source": [
    "type(my_circle)"
   ]
  },
  {
   "cell_type": "code",
   "execution_count": 62,
   "metadata": {},
   "outputs": [
    {
     "data": {
      "text/plain": [
       "3.14"
      ]
     },
     "execution_count": 62,
     "metadata": {},
     "output_type": "execute_result"
    }
   ],
   "source": [
    "my_circle.pi"
   ]
  },
  {
   "cell_type": "code",
   "execution_count": 63,
   "metadata": {},
   "outputs": [
    {
     "data": {
      "text/plain": [
       "1"
      ]
     },
     "execution_count": 63,
     "metadata": {},
     "output_type": "execute_result"
    }
   ],
   "source": [
    "my_circle.radius"
   ]
  },
  {
   "cell_type": "code",
   "execution_count": 64,
   "metadata": {},
   "outputs": [],
   "source": [
    "my_circle2 = Circle(30)"
   ]
  },
  {
   "cell_type": "code",
   "execution_count": 65,
   "metadata": {},
   "outputs": [
    {
     "data": {
      "text/plain": [
       "30"
      ]
     },
     "execution_count": 65,
     "metadata": {},
     "output_type": "execute_result"
    }
   ],
   "source": [
    "my_circle2.radius"
   ]
  },
  {
   "cell_type": "code",
   "execution_count": 66,
   "metadata": {},
   "outputs": [
    {
     "data": {
      "text/plain": [
       "188.4"
      ]
     },
     "execution_count": 66,
     "metadata": {},
     "output_type": "execute_result"
    }
   ],
   "source": [
    "my_circle2.get_circumference()"
   ]
  },
  {
   "cell_type": "code",
   "execution_count": 67,
   "metadata": {},
   "outputs": [
    {
     "data": {
      "text/plain": [
       "2826.0"
      ]
     },
     "execution_count": 67,
     "metadata": {},
     "output_type": "execute_result"
    }
   ],
   "source": [
    "my_circle2.area"
   ]
  },
  {
   "cell_type": "code",
   "execution_count": null,
   "metadata": {},
   "outputs": [],
   "source": []
  }
 ],
 "metadata": {
  "kernelspec": {
   "display_name": "Python 3",
   "language": "python",
   "name": "python3"
  },
  "language_info": {
   "codemirror_mode": {
    "name": "ipython",
    "version": 3
   },
   "file_extension": ".py",
   "mimetype": "text/x-python",
   "name": "python",
   "nbconvert_exporter": "python",
   "pygments_lexer": "ipython3",
   "version": "3.6.8"
  }
 },
 "nbformat": 4,
 "nbformat_minor": 2
}
