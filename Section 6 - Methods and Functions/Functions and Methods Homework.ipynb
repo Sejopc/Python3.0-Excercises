{
 "cells": [
  {
   "cell_type": "markdown",
   "metadata": {},
   "source": [
    "# Functions and Methods Homework \n",
    "\n",
    "Complete the following questions:\n",
    "____\n",
    "**Write a function that computes the volume of a sphere given its radius.**"
   ]
  },
  {
   "cell_type": "code",
   "execution_count": 17,
   "metadata": {},
   "outputs": [],
   "source": [
    "def vol(rad):\n",
    "    volume = float(4.0/3) * 3.14  * (rad**3)\n",
    "    return volume"
   ]
  },
  {
   "cell_type": "code",
   "execution_count": 18,
   "metadata": {},
   "outputs": [
    {
     "data": {
      "text/plain": [
       "4.1866666666666665"
      ]
     },
     "execution_count": 18,
     "metadata": {},
     "output_type": "execute_result"
    }
   ],
   "source": [
    "vol(1)"
   ]
  },
  {
   "cell_type": "markdown",
   "metadata": {},
   "source": [
    "___\n",
    "**Write a function that checks whether a number is in a given range (Inclusive of high and low)**"
   ]
  },
  {
   "cell_type": "code",
   "execution_count": 41,
   "metadata": {},
   "outputs": [],
   "source": [
    "# My solution...\n",
    "def ran_check(num,low,high):\n",
    "    match=0\n",
    "    for i in range(low,high+1):\n",
    "        if num == i:\n",
    "            match+=1;\n",
    "        else:\n",
    "            continue;\n",
    "            \n",
    "    if match>0:\n",
    "        print 'Number is the range'\n",
    "    else:\n",
    "        print 'Number is NOT in the range'\n",
    "        \n",
    "# Answer from the lecture\n",
    "    #if num in range(low,high+1): # Fuck, forgot about 'in' keyword...\n",
    "        #print \"%s is in the range.\" %str(num)\n",
    "    #else:\n",
    "        #print \"%s is NOT in the range\" %str(num)\n"
   ]
  },
  {
   "cell_type": "code",
   "execution_count": 42,
   "metadata": {},
   "outputs": [
    {
     "name": "stdout",
     "output_type": "stream",
     "text": [
      "Number is the range\n"
     ]
    }
   ],
   "source": [
    "ran_check(10,3,10)"
   ]
  },
  {
   "cell_type": "markdown",
   "metadata": {},
   "source": [
    "If you only wanted to return a boolean:"
   ]
  },
  {
   "cell_type": "code",
   "execution_count": 43,
   "metadata": {
    "collapsed": true
   },
   "outputs": [],
   "source": [
    "def ran_bool(num,low,high):\n",
    "    return num in range(low,high+1)"
   ]
  },
  {
   "cell_type": "code",
   "execution_count": 46,
   "metadata": {},
   "outputs": [
    {
     "data": {
      "text/plain": [
       "False"
      ]
     },
     "execution_count": 46,
     "metadata": {},
     "output_type": "execute_result"
    }
   ],
   "source": [
    "ran_bool(11,1,10)"
   ]
  },
  {
   "cell_type": "markdown",
   "metadata": {},
   "source": [
    "____\n",
    "**Write a Python function that accepts a string and calculate the number of upper case letters and lower case letters.**\n",
    "\n",
    "    Sample String : 'Hello Mr. Rogers, how are you this fine Tuesday?'\n",
    "    Expected Output : \n",
    "    No. of Upper case characters : 4\n",
    "    No. of Lower case Characters : 33\n",
    "\n",
    "If you feel ambitious, explore the Collections module to solve this problem!"
   ]
  },
  {
   "cell_type": "code",
   "execution_count": 394,
   "metadata": {},
   "outputs": [],
   "source": [
    "## My way\n",
    "import string\n",
    "\n",
    "def up_low(s):\n",
    "    upper=0\n",
    "    lower=0 \n",
    "    special_chars = [\",\",\"?\",\".\",\"!\",\"@\",\"#\", \"$\", \"%\", \"^\", \"&\", \"*\", \"(\", \")\", \"_\", \"+\", \"-\", \"=\", \"{\", \"}\", \"[\", \"]\", \":\", \";\", \"\\\\\",\"<\", \">\", \"/\", \"|\"]\n",
    "    numbers=1234567890\n",
    "    #print s.replace(' ', '')\n",
    "    #print special_chars[10]\n",
    "    #print '%'.join(s.split('$')) Nice, I undersatnd .join... :)\n",
    "    #return s in special_chars\n",
    "    #Upper_letters=string.ascii_uppercase\n",
    "    #Lower_letters=string.ascii_lowercase\n",
    "    #print Upper_letters[0]\n",
    "    # Could also be done with List comprehension-> my_letter = [letter for letter in s.replace(' ', '') if letter == letter.upper() and letter not in special_chars and letter not in str(numbers)]\n",
    "    for letter in s.replace(' ', ''):\n",
    "        if letter == letter.upper() and letter not in special_chars and letter not in str(numbers):\n",
    "            upper+=1\n",
    "        elif letter not in special_chars and letter not in str(numbers):\n",
    "            lower+=1\n",
    "             \n",
    "    print 'No. of Upper case characters: %d' %upper\n",
    "    print 'No. of Lower case characters: %d' %lower\n",
    "    \n",
    "## Lecture answer:\n",
    "def up_low2(s):\n",
    "    d={\"upper\":0, \"lower\":0}\n",
    "    for c in s:\n",
    "        if c.isupper():\n",
    "            d[\"upper\"]+=1\n",
    "        elif c.islower():\n",
    "            d[\"lower\"]+=1\n",
    "        else:\n",
    "            pass\n",
    "    print \"Original String: \", s\n",
    "    print \"No. of Upper case characters: \", d[\"upper\"]\n",
    "    print \"No. of Lower case characters: \", d[\"lower\"]"
   ]
  },
  {
   "cell_type": "code",
   "execution_count": 395,
   "metadata": {},
   "outputs": [
    {
     "name": "stdout",
     "output_type": "stream",
     "text": [
      "No. of Upper case characters: 4\n",
      "No. of Lower case characters: 33\n",
      "Original String:  Hello Mr. Rogers, how are you this fine Tuesday?\n",
      "No. of Upper case characters:  4\n",
      "No. of Lower case characters:  33\n"
     ]
    }
   ],
   "source": [
    "up_low('Hello Mr. Rogers, how are you this fine Tuesday?')\n",
    "\n",
    "up_low2('Hello Mr. Rogers, how are you this fine Tuesday?')"
   ]
  },
  {
   "cell_type": "markdown",
   "metadata": {},
   "source": [
    "____\n",
    "**Write a Python function that takes a list and returns a new list with unique elements of the first list.**\n",
    "\n",
    "    Sample List : [1,1,1,1,2,2,3,3,3,3,4,5]\n",
    "    Unique List : [1, 2, 3, 4, 5]"
   ]
  },
  {
   "cell_type": "code",
   "execution_count": 1,
   "metadata": {},
   "outputs": [
    {
     "ename": "SyntaxError",
     "evalue": "Missing parentheses in call to 'print'. Did you mean print(my_list)? (<ipython-input-1-292968b68115>, line 10)",
     "output_type": "error",
     "traceback": [
      "\u001b[0;36m  File \u001b[0;32m\"<ipython-input-1-292968b68115>\"\u001b[0;36m, line \u001b[0;32m10\u001b[0m\n\u001b[0;31m    print my_list\u001b[0m\n\u001b[0m                ^\u001b[0m\n\u001b[0;31mSyntaxError\u001b[0m\u001b[0;31m:\u001b[0m Missing parentheses in call to 'print'. Did you mean print(my_list)?\n"
     ]
    }
   ],
   "source": [
    "# My way\n",
    "my_list = []\n",
    "\n",
    "def unique_list(l):\n",
    "    global my_list\n",
    "    for element in l:\n",
    "        #print element\n",
    "        if element not in my_list:\n",
    "            my_list.append(element)            \n",
    "    print my_list\n",
    "    \n",
    "# Lecture way\n"
   ]
  },
  {
   "cell_type": "code",
   "execution_count": 217,
   "metadata": {},
   "outputs": [
    {
     "name": "stdout",
     "output_type": "stream",
     "text": [
      "[1, 2, 3, 4, 5]\n"
     ]
    }
   ],
   "source": [
    "unique_list([1,1,1,1,2,2,3,3,3,3,4,5])"
   ]
  },
  {
   "cell_type": "markdown",
   "metadata": {},
   "source": [
    "____\n",
    "**Write a Python function to multiply all the numbers in a list.**\n",
    "\n",
    "    Sample List : [1, 2, 3, -4]\n",
    "    Expected Output : -24"
   ]
  },
  {
   "cell_type": "code",
   "execution_count": 2,
   "metadata": {},
   "outputs": [
    {
     "ename": "SyntaxError",
     "evalue": "Missing parentheses in call to 'print'. Did you mean print(total)? (<ipython-input-2-8c817012b04d>, line 6)",
     "output_type": "error",
     "traceback": [
      "\u001b[0;36m  File \u001b[0;32m\"<ipython-input-2-8c817012b04d>\"\u001b[0;36m, line \u001b[0;32m6\u001b[0m\n\u001b[0;31m    print total\u001b[0m\n\u001b[0m              ^\u001b[0m\n\u001b[0;31mSyntaxError\u001b[0m\u001b[0;31m:\u001b[0m Missing parentheses in call to 'print'. Did you mean print(total)?\n"
     ]
    }
   ],
   "source": [
    "# My way\n",
    "def multiply(numbers):  \n",
    "    total = 1\n",
    "    for i in range(0,len(numbers)):\n",
    "        total *= numbers[i]\n",
    "    print total\n",
    "    \n",
    "# Lecture Way\n",
    "def multiply2(numbers):\n",
    "    total = numbers[0]\n",
    "    for j in numbers:\n",
    "        total *= j\n",
    "    return total"
   ]
  },
  {
   "cell_type": "code",
   "execution_count": 399,
   "metadata": {},
   "outputs": [
    {
     "name": "stdout",
     "output_type": "stream",
     "text": [
      "-24\n"
     ]
    },
    {
     "data": {
      "text/plain": [
       "-24"
      ]
     },
     "execution_count": 399,
     "metadata": {},
     "output_type": "execute_result"
    }
   ],
   "source": [
    "multiply([5,2,3,-4])\n",
    "multiply2([1,2,3,-4])"
   ]
  },
  {
   "cell_type": "markdown",
   "metadata": {},
   "source": [
    "____\n",
    "**Write a Python function that checks whether a passed string is palindrome or not.**\n",
    "\n",
    "Note: A palindrome is word, phrase, or sequence that reads the same backward as forward, e.g., madam or nurses run."
   ]
  },
  {
   "cell_type": "code",
   "execution_count": 240,
   "metadata": {
    "collapsed": true
   },
   "outputs": [],
   "source": [
    "def palindrome(s):\n",
    "    if s[::] == s[::-1]:\n",
    "        print '%s is Palindrome' %s\n",
    "    else:\n",
    "        print '%s is NOT Palindrome' %s"
   ]
  },
  {
   "cell_type": "code",
   "execution_count": 243,
   "metadata": {},
   "outputs": [
    {
     "name": "stdout",
     "output_type": "stream",
     "text": [
      "helleh is Palindrome\n"
     ]
    }
   ],
   "source": [
    "palindrome('helleh')"
   ]
  },
  {
   "cell_type": "markdown",
   "metadata": {},
   "source": [
    "____\n",
    "**Hard**:\n",
    "\n",
    "Write a Python function to check whether a string is pangram or not.\n",
    "\n",
    "    Note : Pangrams are words or sentences containing every letter of the alphabet at least once.\n",
    "    For example : \"The quick brown fox jumps over the lazy dog\"\n",
    "\n",
    "Hint: Look at the string module"
   ]
  },
  {
   "cell_type": "code",
   "execution_count": 8,
   "metadata": {},
   "outputs": [],
   "source": [
    "# My way! Fuuuck, it was hard, but did it!\n",
    "import string\n",
    "#x = set()\n",
    "def ispangram(str1, alphabet=string.ascii_lowercase):  \n",
    "    lower = str1.lower()\n",
    "    # print lower.replace(\" \", \"\")\n",
    "    x = set(lower.replace(\" \", \"\"))\n",
    "    print x\n",
    "    if x.issuperset(set(alphabet)) == True:\n",
    "        print 'Pangram'\n",
    "    else:\n",
    "        print 'Not Pangram'\n",
    "        \n",
    "# Lecture way\n",
    "def ispangram2(str1, alphabet=string.ascii_lowercase):\n",
    "    alphaset = set(alphabet)\n",
    "    return alphaset <= set(str1.lower())"
   ]
  },
  {
   "cell_type": "code",
   "execution_count": 9,
   "metadata": {},
   "outputs": [
    {
     "name": "stdout",
     "output_type": "stream",
     "text": [
      "set(['a', 'c', 'b', 'e', 'd', 'g', 'f', 'i', 'h', 'k', 'j', 'm', 'l', 'o', 'n', 'q', 'p', 's', 'r', 'u', 't', 'w', 'v', 'y', 'x', 'z'])\n",
      "Pangram\n"
     ]
    },
    {
     "data": {
      "text/plain": [
       "True"
      ]
     },
     "execution_count": 9,
     "metadata": {},
     "output_type": "execute_result"
    }
   ],
   "source": [
    "ispangram(\"The quick brown fox jumps over the lazy dog\")\n",
    "ispangram2(\"The quick brown fox jumps over the lazy dog\")"
   ]
  },
  {
   "cell_type": "code",
   "execution_count": 65,
   "metadata": {},
   "outputs": [
    {
     "data": {
      "text/plain": [
       "'abcdefghijklmnopqrstuvwxyz'"
      ]
     },
     "execution_count": 65,
     "metadata": {},
     "output_type": "execute_result"
    }
   ],
   "source": [
    "string.ascii_lowercase"
   ]
  },
  {
   "cell_type": "markdown",
   "metadata": {
    "collapsed": true
   },
   "source": [
    "####**Great Job!**"
   ]
  }
 ],
 "metadata": {
  "kernelspec": {
   "display_name": "Python 3",
   "language": "python",
   "name": "python3"
  },
  "language_info": {
   "codemirror_mode": {
    "name": "ipython",
    "version": 3
   },
   "file_extension": ".py",
   "mimetype": "text/x-python",
   "name": "python",
   "nbconvert_exporter": "python",
   "pygments_lexer": "ipython3",
   "version": "3.6.8"
  }
 },
 "nbformat": 4,
 "nbformat_minor": 1
}
