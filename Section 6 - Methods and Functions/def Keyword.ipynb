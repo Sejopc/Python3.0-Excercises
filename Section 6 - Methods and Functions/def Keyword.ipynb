{
 "cells": [
  {
   "cell_type": "markdown",
   "metadata": {},
   "source": [
    "Allows us to create a function in python"
   ]
  },
  {
   "cell_type": "raw",
   "metadata": {},
   "source": [
    "Example:\n",
    "    \n",
    "    def name_of_function(): -> without args\n",
    "    def name_of_function(name): -> with argument\n",
    "    \n",
    "snake casing is all lowercase with underscores between words.\n",
    "\n",
    "To create a DocString (multi-line comment about a function) you can put 3 \", i.e:\n",
    "\n",
    "\"\"\"\n",
    "    Multi\n",
    "    comment\n",
    "\"\"\"\n",
    "\n",
    "Call the function:\n",
    "\n",
    "name_of_function()"
   ]
  },
  {
   "cell_type": "markdown",
   "metadata": {},
   "source": [
    "We typically use the \"return\" keyword to return to results of the function. We rarely have a print inside of a function.\n",
    "\n",
    "\"return\" keyword allows us to assign the return of a function, to a variable, i.e:\n",
    "\n",
    "def add_function(num1,num2):\n",
    "    return num1+num2\n",
    "    \n",
    "result = add_function(1,2)\n",
    "print(result)"
   ]
  },
  {
   "cell_type": "code",
   "execution_count": null,
   "metadata": {},
   "outputs": [],
   "source": []
  }
 ],
 "metadata": {
  "kernelspec": {
   "display_name": "Python 3",
   "language": "python",
   "name": "python3"
  },
  "language_info": {
   "codemirror_mode": {
    "name": "ipython",
    "version": 3
   },
   "file_extension": ".py",
   "mimetype": "text/x-python",
   "name": "python",
   "nbconvert_exporter": "python",
   "pygments_lexer": "ipython3",
   "version": "3.6.8"
  }
 },
 "nbformat": 4,
 "nbformat_minor": 2
}
