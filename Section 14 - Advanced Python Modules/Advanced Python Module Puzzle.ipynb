{
 "cells": [
  {
   "cell_type": "markdown",
   "metadata": {},
   "source": [
    "# Advanced Modules Exercise Puzzle\n",
    "\n",
    "It's time to test your new skills, this puzzle project will combine multiple skills sets, including unzipping files with Python, using os module to automatically search through lots of files.\n",
    "\n",
    "## Your Goal\n",
    "\n",
    "This is a puzzle, so we don't want to give you too much guidance and instead have you figure out things on your own.\n",
    "\n",
    "There is a .zip file called 'unzip_me_for_instructions.zip', unzip it, open the .txt file with Python, read the instructions and see if you can figure out what you need to do!\n",
    "\n",
    "**If you get stuck or don't know where to start, here is a [guide/hints](https://docs.google.com/document/d/1JxydUr4n4fSR0EwwuwT-aHia-yPK6r-oTBuVT2sqheo/edit?usp=sharing)**"
   ]
  },
  {
   "cell_type": "code",
   "execution_count": 2,
   "metadata": {},
   "outputs": [
    {
     "name": "stdout",
     "output_type": "stream",
     "text": [
      "Advanced Python Module Puzzle.ipynb\r\n",
      "Introduction to Advanced Python Modules.ipynb\r\n",
      "Opening and Reading Files and Folders (Python OS & shutil Modules).ipynb\r\n",
      "Python Collections Module.ipynb\r\n",
      "Python Datetime Module.ipynb\r\n",
      "Python Debugger.ipynb\r\n",
      "Python Math and Random Modules.ipynb\r\n",
      "Python Regular Expressions Part One.ipynb\r\n",
      "Python Regular Expressions Part Three.ipynb\r\n",
      "Python Regular Expressions Part Two.ipynb\r\n",
      "Timing your Python Code.ipynb\r\n",
      "Zipping and Unzipping files with Python.ipynb\r\n",
      "comp_file.zip\r\n",
      "example.zip\r\n",
      "\u001b[1m\u001b[34mextracted_content\u001b[m\u001b[m/\r\n",
      "fileone.txt\r\n",
      "filetwo.txt\r\n",
      "\u001b[1m\u001b[34mfinal_unzip\u001b[m\u001b[m/\r\n",
      "unzip_me_for_instructions.zip\r\n"
     ]
    }
   ],
   "source": [
    "ls"
   ]
  },
  {
   "cell_type": "code",
   "execution_count": 3,
   "metadata": {},
   "outputs": [],
   "source": [
    "import zipfile"
   ]
  },
  {
   "cell_type": "code",
   "execution_count": 4,
   "metadata": {},
   "outputs": [],
   "source": [
    "unzip_file = zipfile.ZipFile('unzip_me_for_instructions.zip', 'r')"
   ]
  },
  {
   "cell_type": "code",
   "execution_count": 5,
   "metadata": {},
   "outputs": [],
   "source": [
    "unzip_file.extractall('unzipped_files')"
   ]
  },
  {
   "cell_type": "code",
   "execution_count": 6,
   "metadata": {},
   "outputs": [
    {
     "name": "stdout",
     "output_type": "stream",
     "text": [
      "Advanced Python Module Puzzle.ipynb\r\n",
      "Introduction to Advanced Python Modules.ipynb\r\n",
      "Opening and Reading Files and Folders (Python OS & shutil Modules).ipynb\r\n",
      "Python Collections Module.ipynb\r\n",
      "Python Datetime Module.ipynb\r\n",
      "Python Debugger.ipynb\r\n",
      "Python Math and Random Modules.ipynb\r\n",
      "Python Regular Expressions Part One.ipynb\r\n",
      "Python Regular Expressions Part Three.ipynb\r\n",
      "Python Regular Expressions Part Two.ipynb\r\n",
      "Timing your Python Code.ipynb\r\n",
      "Zipping and Unzipping files with Python.ipynb\r\n",
      "comp_file.zip\r\n",
      "example.zip\r\n",
      "\u001b[1m\u001b[34mextracted_content\u001b[m\u001b[m/\r\n",
      "fileone.txt\r\n",
      "filetwo.txt\r\n",
      "\u001b[1m\u001b[34mfinal_unzip\u001b[m\u001b[m/\r\n",
      "unzip_me_for_instructions.zip\r\n",
      "\u001b[1m\u001b[34munzipped_files\u001b[m\u001b[m/\r\n"
     ]
    }
   ],
   "source": [
    "ls"
   ]
  },
  {
   "cell_type": "code",
   "execution_count": 7,
   "metadata": {},
   "outputs": [],
   "source": [
    "import os"
   ]
  },
  {
   "cell_type": "code",
   "execution_count": 8,
   "metadata": {},
   "outputs": [
    {
     "data": {
      "text/plain": [
       "'/Users/jose/Documents/Python Lessons (GitHub)/Python3.0-Excercises/Section 14 - Advanced Python Modules'"
      ]
     },
     "execution_count": 8,
     "metadata": {},
     "output_type": "execute_result"
    }
   ],
   "source": [
    "os.getcwd()"
   ]
  },
  {
   "cell_type": "code",
   "execution_count": 12,
   "metadata": {},
   "outputs": [],
   "source": [
    "path = os.getcwd()"
   ]
  },
  {
   "cell_type": "code",
   "execution_count": 14,
   "metadata": {},
   "outputs": [
    {
     "data": {
      "text/plain": [
       "str"
      ]
     },
     "execution_count": 14,
     "metadata": {},
     "output_type": "execute_result"
    }
   ],
   "source": [
    "type(path)"
   ]
  },
  {
   "cell_type": "code",
   "execution_count": 15,
   "metadata": {},
   "outputs": [
    {
     "data": {
      "text/plain": [
       "['extracted_content']"
      ]
     },
     "execution_count": 15,
     "metadata": {},
     "output_type": "execute_result"
    }
   ],
   "source": [
    "os.listdir(os.getcwd() + '/unzipped_files')"
   ]
  },
  {
   "cell_type": "code",
   "execution_count": 16,
   "metadata": {},
   "outputs": [
    {
     "data": {
      "text/plain": [
       "['Instructions.txt', 'Three', 'One', 'Two', 'Five', 'Four']"
      ]
     },
     "execution_count": 16,
     "metadata": {},
     "output_type": "execute_result"
    }
   ],
   "source": [
    "os.listdir(os.getcwd() + '/unzipped_files' + '/extracted_content')"
   ]
  },
  {
   "cell_type": "code",
   "execution_count": 17,
   "metadata": {},
   "outputs": [],
   "source": [
    "f = open(os.getcwd() + '/unzipped_files' + '/extracted_content' + '/Instructions.txt', 'r')"
   ]
  },
  {
   "cell_type": "code",
   "execution_count": 21,
   "metadata": {},
   "outputs": [
    {
     "data": {
      "text/plain": [
       "0"
      ]
     },
     "execution_count": 21,
     "metadata": {},
     "output_type": "execute_result"
    }
   ],
   "source": [
    "f.seek(0)"
   ]
  },
  {
   "cell_type": "code",
   "execution_count": 22,
   "metadata": {},
   "outputs": [
    {
     "data": {
      "text/plain": [
       "['Good work on unzipping the file!\\n',\n",
       " 'You should now see 5 folders, each with a lot of random .txt files.\\n',\n",
       " 'Within one of these text files is a telephone number formated ###-###-#### \\n',\n",
       " 'Use the Python os module and regular expressions to iterate through each file, open it, and search for a telephone number.\\n',\n",
       " 'Good luck!']"
      ]
     },
     "execution_count": 22,
     "metadata": {},
     "output_type": "execute_result"
    }
   ],
   "source": [
    "f.readlines()"
   ]
  },
  {
   "cell_type": "code",
   "execution_count": 23,
   "metadata": {},
   "outputs": [],
   "source": [
    "folders = os.getcwd() + '/unzipped_files' + '/extracted_content'"
   ]
  },
  {
   "cell_type": "code",
   "execution_count": 24,
   "metadata": {},
   "outputs": [],
   "source": [
    "walk = os.walk(folders)"
   ]
  },
  {
   "cell_type": "code",
   "execution_count": 25,
   "metadata": {},
   "outputs": [
    {
     "data": {
      "text/plain": [
       "<generator object walk at 0x7ff9df3bb200>"
      ]
     },
     "execution_count": 25,
     "metadata": {},
     "output_type": "execute_result"
    }
   ],
   "source": [
    "walk"
   ]
  },
  {
   "cell_type": "code",
   "execution_count": 26,
   "metadata": {},
   "outputs": [
    {
     "data": {
      "text/plain": [
       "[('/Users/jose/Documents/Python Lessons (GitHub)/Python3.0-Excercises/Section 14 - Advanced Python Modules/unzipped_files/extracted_content',\n",
       "  ['Three', 'One', 'Two', 'Five', 'Four'],\n",
       "  ['Instructions.txt']),\n",
       " ('/Users/jose/Documents/Python Lessons (GitHub)/Python3.0-Excercises/Section 14 - Advanced Python Modules/unzipped_files/extracted_content/Three',\n",
       "  [],\n",
       "  ['VSXFSTABZDY.txt',\n",
       "   'YDQFMWXOUMW.txt',\n",
       "   'YQBIUHSUEVW.txt',\n",
       "   'XAJMCPEWFNI.txt',\n",
       "   'ZXEZRQXZNPG.txt',\n",
       "   'ZKQJXAYKPVD.txt',\n",
       "   'XVMPVSVYKFR.txt',\n",
       "   'XHZPVUQTXIO.txt',\n",
       "   'YYIZGBTQHZP.txt',\n",
       "   'VCFJCGJFBIH.txt',\n",
       "   'VVHFVZUNLOO.txt',\n",
       "   'VVKGWLRMHLU.txt',\n",
       "   'XJCWENFFGHB.txt',\n",
       "   'XFHJOTNPEJG.txt',\n",
       "   'ZOWVXWPOGWP.txt',\n",
       "   'ZXIBJMPROKW.txt',\n",
       "   'VAQIJTDOFUJ.txt',\n",
       "   'YCESZHJDBXH.txt',\n",
       "   'YQRNCMNFFHW.txt',\n",
       "   'ZEZKKRBIZEB.txt']),\n",
       " ('/Users/jose/Documents/Python Lessons (GitHub)/Python3.0-Excercises/Section 14 - Advanced Python Modules/unzipped_files/extracted_content/One',\n",
       "  [],\n",
       "  ['LFEATJAAYDC.txt',\n",
       "   'KCXGNQCZBLO.txt',\n",
       "   'KFIUZFERLET.txt',\n",
       "   'LIFDHOFKWOI.txt',\n",
       "   'HRQFTHKVJTL.txt',\n",
       "   'PLYCGPVEAWO.txt',\n",
       "   'JEHBLZPUPSP.txt',\n",
       "   'PDJMSMNKIRM.txt',\n",
       "   'LPNDVDXPZIG.txt',\n",
       "   'HMNZTLIFGPD.txt',\n",
       "   'KNBSKDREHQU.txt',\n",
       "   'KTXDHIOKAUI.txt',\n",
       "   'JQUOBKFUACN.txt',\n",
       "   'HFUTPPAXDIS.txt',\n",
       "   'PTOBBCJYURJ.txt',\n",
       "   'LHODFIKVTQA.txt',\n",
       "   'JLTXKIGCWDL.txt',\n",
       "   'HDOHZHFSTTK.txt',\n",
       "   'KMMLGJOWLGI.txt',\n",
       "   'JDLRVFCXYLU.txt',\n",
       "   'PHWAVPEKAER.txt',\n",
       "   'LDGOCUQJNNS.txt',\n",
       "   'JTHSNBNPQSE.txt',\n",
       "   'HVUTZEVMSBW.txt',\n",
       "   'PQNVCVJINAR.txt']),\n",
       " ('/Users/jose/Documents/Python Lessons (GitHub)/Python3.0-Excercises/Section 14 - Advanced Python Modules/unzipped_files/extracted_content/Two',\n",
       "  [],\n",
       "  ['HEORIXOTANT.txt',\n",
       "   'SOFUJYXTIMK.txt',\n",
       "   'HMZXPBOPRAE.txt',\n",
       "   'OMWIMVRCMYM.txt',\n",
       "   'OHZOUOSFJQC.txt',\n",
       "   'OKWFOOYTXFU.txt',\n",
       "   'LVMBINRBJXL.txt',\n",
       "   'LSQSTGPIGIY.txt',\n",
       "   'OIHMLGMWTHL.txt',\n",
       "   'GQTJJORZBXY.txt',\n",
       "   'HARDNJGDRBC.txt',\n",
       "   'OYMAGXAGWHJ.txt',\n",
       "   'HMUTDOVNYTV.txt',\n",
       "   'LYZEQCVYNEZ.txt',\n",
       "   'GMMQQUBMJNR.txt',\n",
       "   'GTOTCIWMDBY.txt',\n",
       "   'LULTNYAQEJG.txt',\n",
       "   'HTOHSTYXTCO.txt',\n",
       "   'SJMJLDGPBSJ.txt',\n",
       "   'LCJZYDHBFRM.txt',\n",
       "   'SPDZYGDHEWO.txt',\n",
       "   'SIKFPPLCJDN.txt',\n",
       "   'GXYSEPAFRTP.txt',\n",
       "   'SWOFXREEHWA.txt',\n",
       "   'GKQBQRCTNNK.txt']),\n",
       " ('/Users/jose/Documents/Python Lessons (GitHub)/Python3.0-Excercises/Section 14 - Advanced Python Modules/unzipped_files/extracted_content/Five',\n",
       "  [],\n",
       "  ['ESIZWBHMGDP.txt',\n",
       "   'BUGKBZWRRVI.txt',\n",
       "   'ARLKFCWIAJE.txt',\n",
       "   'EYTCGIOYWIW.txt',\n",
       "   'APJKSRITGGX.txt',\n",
       "   'AXJGVPVEFAS.txt',\n",
       "   'CSCLFZCDYYC.txt',\n",
       "   'CAHBEVSVDDN.txt',\n",
       "   'BVBURZZCAPR.txt',\n",
       "   'ETCUEXWNBCF.txt',\n",
       "   'CRFSDGYFSHA.txt',\n",
       "   'DYOPIIVMZOO.txt',\n",
       "   'DDLASODUVPX.txt',\n",
       "   'CXBVCTRBBIE.txt',\n",
       "   'COMGMZBJAYE.txt',\n",
       "   'EAAOEPSAWMQ.txt',\n",
       "   'DZUWWXYIAEL.txt',\n",
       "   'EIPWXMQZJKU.txt',\n",
       "   'DHZBAAYEADM.txt',\n",
       "   'BSKJDRNEZQM.txt',\n",
       "   'AQKATDFGXTS.txt',\n",
       "   'BTYWAHLHKBM.txt',\n",
       "   'AEITMYIRQLP.txt',\n",
       "   'BNUQEHCFRTG.txt',\n",
       "   'DQPZQLBCJYP.txt']),\n",
       " ('/Users/jose/Documents/Python Lessons (GitHub)/Python3.0-Excercises/Section 14 - Advanced Python Modules/unzipped_files/extracted_content/Four',\n",
       "  [],\n",
       "  ['WHTOHQUWXIN.txt',\n",
       "   'QDDETWBHJYC.txt',\n",
       "   'WNJISWPEBRS.txt',\n",
       "   'WFSKPTXPFCH.txt',\n",
       "   'EMTGPSXQEJX.txt',\n",
       "   'TWUOYFCCYBQ.txt',\n",
       "   'QTDYYIFPHAU.txt',\n",
       "   'TAKNAVDMZKV.txt',\n",
       "   'RYNXFYXMKHG.txt',\n",
       "   'ROICPTWKXDX.txt',\n",
       "   'QCWCFLKNZMN.txt',\n",
       "   'EXVQSVBQQQH.txt',\n",
       "   'THPNEGKTJWI.txt',\n",
       "   'TJFMLJODVAD.txt',\n",
       "   'QCTCKDIBBVG.txt',\n",
       "   'TKCZSFQNJTX.txt',\n",
       "   'WXDJDOGZEHN.txt',\n",
       "   'QVNJULGXNUM.txt',\n",
       "   'RSXOTNGKBML.txt',\n",
       "   'EPRNUHRSESC.txt',\n",
       "   'ECIOBYCDVFI.txt',\n",
       "   'RXDARIDGKBF.txt',\n",
       "   'REAXWSOIQDY.txt',\n",
       "   'WYDLGSGGXKV.txt',\n",
       "   'ESDIZXHYCVY.txt'])]"
      ]
     },
     "execution_count": 26,
     "metadata": {},
     "output_type": "execute_result"
    }
   ],
   "source": [
    "list(walk)"
   ]
  },
  {
   "cell_type": "code",
   "execution_count": 30,
   "metadata": {},
   "outputs": [],
   "source": [
    "import re"
   ]
  },
  {
   "cell_type": "code",
   "execution_count": 51,
   "metadata": {},
   "outputs": [
    {
     "name": "stdout",
     "output_type": "stream",
     "text": [
      "\n",
      "\n",
      "\n",
      "\n",
      "\n",
      "\n",
      "\n",
      "\n",
      "\n",
      "\n",
      "TELEPHONE NUMBER FOUND: ['719-266-2837']\n",
      "IN FILE: EMTGPSXQEJX.txt\n",
      "INSIDE FOLDER: /Users/jose/Documents/Python Lessons (GitHub)/Python3.0-Excercises/Section 14 - Advanced Python Modules/unzipped_files/extracted_content/Four\n",
      "\n",
      "\n"
     ]
    }
   ],
   "source": [
    "pattern = r'\\d{3}-\\d{3}-\\d{4}'\n",
    "\n",
    "\n",
    "for folder, subfolders, files in os.walk(folders):\n",
    "    #print(f'Currently looking at folder: {folder}')\n",
    "    #print('\\n')\n",
    "    \n",
    "    for subfold in subfolders:\n",
    "        #print(f'\\tSubfolder: {subfold}')\n",
    "        pass\n",
    "    #print('\\n')\n",
    "    \n",
    "    for file in files:\n",
    "        #print(f'\\tFile: {file}')\n",
    "        f = open(folder + \"/\" + file, 'r')\n",
    "        result = re.findall(pattern, f.read())\n",
    "        if result:\n",
    "            print(f'TELEPHONE NUMBER FOUND: {result}\\nIN FILE: {file}\\nINSIDE FOLDER: {folder}')\n",
    "        f.close()\n",
    "        \n",
    "    print('\\n')"
   ]
  },
  {
   "cell_type": "code",
   "execution_count": 46,
   "metadata": {},
   "outputs": [],
   "source": [
    "### SOLUTION FROM LECTURE"
   ]
  },
  {
   "cell_type": "code",
   "execution_count": 52,
   "metadata": {},
   "outputs": [],
   "source": [
    "import shutil"
   ]
  },
  {
   "cell_type": "code",
   "execution_count": 55,
   "metadata": {},
   "outputs": [],
   "source": [
    "shutil.unpack_archive(os.getcwd() + '/unzip_me_for_instructions.zip', 'unzip_me_for_instructions_2', 'zip')"
   ]
  },
  {
   "cell_type": "code",
   "execution_count": 56,
   "metadata": {},
   "outputs": [
    {
     "name": "stdout",
     "output_type": "stream",
     "text": [
      "Good work on unzipping the file!\n",
      "You should now see 5 folders, each with a lot of random .txt files.\n",
      "Within one of these text files is a telephone number formated ###-###-#### \n",
      "Use the Python os module and regular expressions to iterate through each file, open it, and search for a telephone number.\n",
      "Good luck!\n"
     ]
    }
   ],
   "source": [
    "with open('unzip_me_for_instructions_2/extracted_content/Instructions.txt') as f:\n",
    "    content = f.read()\n",
    "    print(content)"
   ]
  },
  {
   "cell_type": "code",
   "execution_count": 57,
   "metadata": {},
   "outputs": [],
   "source": [
    "import re"
   ]
  },
  {
   "cell_type": "code",
   "execution_count": 58,
   "metadata": {},
   "outputs": [],
   "source": [
    "pattern = r'\\d{3}-\\d{3}-\\d{4}'"
   ]
  },
  {
   "cell_type": "code",
   "execution_count": 59,
   "metadata": {},
   "outputs": [],
   "source": [
    "test_string = 'here is a phone number 123-123-1234'"
   ]
  },
  {
   "cell_type": "code",
   "execution_count": 60,
   "metadata": {},
   "outputs": [
    {
     "data": {
      "text/plain": [
       "['123-123-1234']"
      ]
     },
     "execution_count": 60,
     "metadata": {},
     "output_type": "execute_result"
    }
   ],
   "source": [
    "re.findall(pattern, test_string)"
   ]
  },
  {
   "cell_type": "code",
   "execution_count": 61,
   "metadata": {},
   "outputs": [],
   "source": [
    "def search(file,pattern=r'\\d{3}-\\d{3}-\\d{4}'):\n",
    "    f = open(file, 'r')\n",
    "    text = f.read()\n",
    "    \n",
    "    if re.search(pattern, text):\n",
    "        return re.search(pattern, text)\n",
    "    else:\n",
    "        return ''"
   ]
  },
  {
   "cell_type": "code",
   "execution_count": 62,
   "metadata": {},
   "outputs": [],
   "source": [
    "import os"
   ]
  },
  {
   "cell_type": "code",
   "execution_count": 63,
   "metadata": {},
   "outputs": [],
   "source": [
    "results = []"
   ]
  },
  {
   "cell_type": "code",
   "execution_count": 64,
   "metadata": {},
   "outputs": [
    {
     "data": {
      "text/plain": [
       "'/Users/jose/Documents/Python Lessons (GitHub)/Python3.0-Excercises/Section 14 - Advanced Python Modules/unzip_me_for_instructions_2/extracted_content/'"
      ]
     },
     "execution_count": 64,
     "metadata": {},
     "output_type": "execute_result"
    }
   ],
   "source": [
    "os.getcwd() + '/unzip_me_for_instructions_2/extracted_content/'"
   ]
  },
  {
   "cell_type": "code",
   "execution_count": 65,
   "metadata": {},
   "outputs": [],
   "source": [
    "for folder, sub_folders, files in os.walk(os.getcwd() + '/unzip_me_for_instructions_2/extracted_content/'):\n",
    "    for f in files:\n",
    "        full_path = folder + '/' + f\n",
    "        \n",
    "        results.append(search(full_path))"
   ]
  },
  {
   "cell_type": "code",
   "execution_count": 66,
   "metadata": {},
   "outputs": [
    {
     "data": {
      "text/plain": [
       "['',\n",
       " '',\n",
       " '',\n",
       " '',\n",
       " '',\n",
       " '',\n",
       " '',\n",
       " '',\n",
       " '',\n",
       " '',\n",
       " '',\n",
       " '',\n",
       " '',\n",
       " '',\n",
       " '',\n",
       " '',\n",
       " '',\n",
       " '',\n",
       " '',\n",
       " '',\n",
       " '',\n",
       " '',\n",
       " '',\n",
       " '',\n",
       " '',\n",
       " '',\n",
       " '',\n",
       " '',\n",
       " '',\n",
       " '',\n",
       " '',\n",
       " '',\n",
       " '',\n",
       " '',\n",
       " '',\n",
       " '',\n",
       " '',\n",
       " '',\n",
       " '',\n",
       " '',\n",
       " '',\n",
       " '',\n",
       " '',\n",
       " '',\n",
       " '',\n",
       " '',\n",
       " '',\n",
       " '',\n",
       " '',\n",
       " '',\n",
       " '',\n",
       " '',\n",
       " '',\n",
       " '',\n",
       " '',\n",
       " '',\n",
       " '',\n",
       " '',\n",
       " '',\n",
       " '',\n",
       " '',\n",
       " '',\n",
       " '',\n",
       " '',\n",
       " '',\n",
       " '',\n",
       " '',\n",
       " '',\n",
       " '',\n",
       " '',\n",
       " '',\n",
       " '',\n",
       " '',\n",
       " '',\n",
       " '',\n",
       " '',\n",
       " '',\n",
       " '',\n",
       " '',\n",
       " '',\n",
       " '',\n",
       " '',\n",
       " '',\n",
       " '',\n",
       " '',\n",
       " '',\n",
       " '',\n",
       " '',\n",
       " '',\n",
       " '',\n",
       " '',\n",
       " '',\n",
       " '',\n",
       " '',\n",
       " '',\n",
       " '',\n",
       " '',\n",
       " '',\n",
       " '',\n",
       " '',\n",
       " <_sre.SRE_Match object; span=(1062, 1074), match='719-266-2837'>,\n",
       " '',\n",
       " '',\n",
       " '',\n",
       " '',\n",
       " '',\n",
       " '',\n",
       " '',\n",
       " '',\n",
       " '',\n",
       " '',\n",
       " '',\n",
       " '',\n",
       " '',\n",
       " '',\n",
       " '',\n",
       " '',\n",
       " '',\n",
       " '',\n",
       " '',\n",
       " '']"
      ]
     },
     "execution_count": 66,
     "metadata": {},
     "output_type": "execute_result"
    }
   ],
   "source": [
    "results"
   ]
  },
  {
   "cell_type": "code",
   "execution_count": 67,
   "metadata": {},
   "outputs": [
    {
     "name": "stdout",
     "output_type": "stream",
     "text": [
      "719-266-2837\n"
     ]
    }
   ],
   "source": [
    "for r in results:\n",
    "    if r != '':\n",
    "        print(r.group())"
   ]
  },
  {
   "cell_type": "code",
   "execution_count": null,
   "metadata": {},
   "outputs": [],
   "source": []
  }
 ],
 "metadata": {
  "kernelspec": {
   "display_name": "Python 3",
   "language": "python",
   "name": "python3"
  },
  "language_info": {
   "codemirror_mode": {
    "name": "ipython",
    "version": 3
   },
   "file_extension": ".py",
   "mimetype": "text/x-python",
   "name": "python",
   "nbconvert_exporter": "python",
   "pygments_lexer": "ipython3",
   "version": "3.6.8"
  }
 },
 "nbformat": 4,
 "nbformat_minor": 2
}
