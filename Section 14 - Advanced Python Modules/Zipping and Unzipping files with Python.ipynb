{
 "cells": [
  {
   "cell_type": "code",
   "execution_count": 1,
   "metadata": {},
   "outputs": [],
   "source": [
    "f = open('fileone.txt', 'w+')\n",
    "f.write('ONE FILE')\n",
    "f.close()"
   ]
  },
  {
   "cell_type": "code",
   "execution_count": 2,
   "metadata": {},
   "outputs": [],
   "source": [
    "f = open('filetwo.txt', 'w+')\n",
    "f.write('TWO FILE')\n",
    "f.close()"
   ]
  },
  {
   "cell_type": "code",
   "execution_count": 4,
   "metadata": {},
   "outputs": [
    {
     "name": "stdout",
     "output_type": "stream",
     "text": [
      "Introduction to Advanced Python Modules.ipynb\r\n",
      "Opening and Reading Files and Folders (Python OS & shutil Modules).ipynb\r\n",
      "Python Collections Module.ipynb\r\n",
      "Python Datetime Module.ipynb\r\n",
      "Python Debugger.ipynb\r\n",
      "Python Math and Random Modules.ipynb\r\n",
      "Python Regular Expressions Part One.ipynb\r\n",
      "Python Regular Expressions Part Three.ipynb\r\n",
      "Python Regular Expressions Part Two.ipynb\r\n",
      "Timing your Python Code.ipynb\r\n",
      "Zipping and Unzipping files with Python.ipynb\r\n",
      "fileone.txt\r\n",
      "filetwo.txt\r\n"
     ]
    }
   ],
   "source": [
    "ls"
   ]
  },
  {
   "cell_type": "code",
   "execution_count": 5,
   "metadata": {},
   "outputs": [],
   "source": [
    "import zipfile # built into python"
   ]
  },
  {
   "cell_type": "code",
   "execution_count": 6,
   "metadata": {},
   "outputs": [],
   "source": [
    "compress_file = zipfile.ZipFile('comp_file.zip', 'w') # creates a comp_file.zip file"
   ]
  },
  {
   "cell_type": "code",
   "execution_count": 7,
   "metadata": {},
   "outputs": [],
   "source": [
    "compress_file.write('fileone.txt',compress_type=zipfile.ZIP_DEFLATED) # grabs the first file, compress it, and zip it into comp_file.zip"
   ]
  },
  {
   "cell_type": "code",
   "execution_count": 9,
   "metadata": {},
   "outputs": [
    {
     "name": "stderr",
     "output_type": "stream",
     "text": [
      "/Users/jose/anaconda3/lib/python3.6/zipfile.py:1378: UserWarning: Duplicate name: 'filetwo.txt'\n",
      "  return self._open_to_write(zinfo, force_zip64=force_zip64)\n"
     ]
    }
   ],
   "source": [
    "compress_file.write('filetwo.txt',compress_type=zipfile.ZIP_DEFLATED) # grabs the second file, compress it, and zip it into comp_file.zip"
   ]
  },
  {
   "cell_type": "code",
   "execution_count": 10,
   "metadata": {},
   "outputs": [],
   "source": [
    "compress_file.close()"
   ]
  },
  {
   "cell_type": "code",
   "execution_count": 11,
   "metadata": {},
   "outputs": [],
   "source": [
    " # EXTRACTING FROM ZIP FILE"
   ]
  },
  {
   "cell_type": "code",
   "execution_count": 12,
   "metadata": {},
   "outputs": [],
   "source": [
    "zip_obj = zipfile.ZipFile('comp_file.zip', 'r') # we are only extracting, so we need read method only"
   ]
  },
  {
   "cell_type": "code",
   "execution_count": 13,
   "metadata": {},
   "outputs": [],
   "source": [
    "zip_obj.extractall('extracted_content') # creates a folder with extracted files inside .zip file"
   ]
  },
  {
   "cell_type": "code",
   "execution_count": 14,
   "metadata": {},
   "outputs": [
    {
     "name": "stdout",
     "output_type": "stream",
     "text": [
      "Introduction to Advanced Python Modules.ipynb\r\n",
      "Opening and Reading Files and Folders (Python OS & shutil Modules).ipynb\r\n",
      "Python Collections Module.ipynb\r\n",
      "Python Datetime Module.ipynb\r\n",
      "Python Debugger.ipynb\r\n",
      "Python Math and Random Modules.ipynb\r\n",
      "Python Regular Expressions Part One.ipynb\r\n",
      "Python Regular Expressions Part Three.ipynb\r\n",
      "Python Regular Expressions Part Two.ipynb\r\n",
      "Timing your Python Code.ipynb\r\n",
      "Zipping and Unzipping files with Python.ipynb\r\n",
      "comp_file.zip\r\n",
      "\u001b[1m\u001b[34mextracted_content\u001b[m\u001b[m/\r\n",
      "fileone.txt\r\n",
      "filetwo.txt\r\n"
     ]
    }
   ],
   "source": [
    "ls"
   ]
  },
  {
   "cell_type": "code",
   "execution_count": 15,
   "metadata": {},
   "outputs": [
    {
     "data": {
      "text/plain": [
       "'/Users/jose/Documents/Python Lessons (GitHub)/Python3.0-Excercises/Section 14 - Advanced Python Modules'"
      ]
     },
     "execution_count": 15,
     "metadata": {},
     "output_type": "execute_result"
    }
   ],
   "source": [
    "pwd"
   ]
  },
  {
   "cell_type": "code",
   "execution_count": 16,
   "metadata": {},
   "outputs": [],
   "source": [
    "# ARCHIVE OR EXTRACT AN ENTIRE FOLDER INSTEAD OF A SINGLE FILE"
   ]
  },
  {
   "cell_type": "code",
   "execution_count": 17,
   "metadata": {},
   "outputs": [],
   "source": [
    "# For that, it's better to use shutil library"
   ]
  },
  {
   "cell_type": "code",
   "execution_count": 18,
   "metadata": {},
   "outputs": [],
   "source": [
    "import shutil"
   ]
  },
  {
   "cell_type": "code",
   "execution_count": 22,
   "metadata": {},
   "outputs": [],
   "source": [
    "dir_to_zip = '/Users/jose/Documents/Python Lessons (GitHub)/Python3.0-Excercises/Section 14 - Advanced Python Modules/extracted_content/'"
   ]
  },
  {
   "cell_type": "code",
   "execution_count": 23,
   "metadata": {},
   "outputs": [],
   "source": [
    "output_filename = 'example'"
   ]
  },
  {
   "cell_type": "code",
   "execution_count": 24,
   "metadata": {},
   "outputs": [
    {
     "data": {
      "text/plain": [
       "'/Users/jose/Documents/Python Lessons (GitHub)/Python3.0-Excercises/Section 14 - Advanced Python Modules/example.zip'"
      ]
     },
     "execution_count": 24,
     "metadata": {},
     "output_type": "execute_result"
    }
   ],
   "source": [
    "shutil.make_archive(output_filename,'zip',dir_to_zip)"
   ]
  },
  {
   "cell_type": "code",
   "execution_count": 25,
   "metadata": {},
   "outputs": [
    {
     "name": "stdout",
     "output_type": "stream",
     "text": [
      "Introduction to Advanced Python Modules.ipynb\r\n",
      "Opening and Reading Files and Folders (Python OS & shutil Modules).ipynb\r\n",
      "Python Collections Module.ipynb\r\n",
      "Python Datetime Module.ipynb\r\n",
      "Python Debugger.ipynb\r\n",
      "Python Math and Random Modules.ipynb\r\n",
      "Python Regular Expressions Part One.ipynb\r\n",
      "Python Regular Expressions Part Three.ipynb\r\n",
      "Python Regular Expressions Part Two.ipynb\r\n",
      "Timing your Python Code.ipynb\r\n",
      "Zipping and Unzipping files with Python.ipynb\r\n",
      "comp_file.zip\r\n",
      "example.zip\r\n",
      "\u001b[1m\u001b[34mextracted_content\u001b[m\u001b[m/\r\n",
      "fileone.txt\r\n",
      "filetwo.txt\r\n"
     ]
    }
   ],
   "source": [
    "ls"
   ]
  },
  {
   "cell_type": "code",
   "execution_count": 26,
   "metadata": {},
   "outputs": [],
   "source": [
    "shutil.unpack_archive('example.zip','final_unzip','zip')"
   ]
  },
  {
   "cell_type": "code",
   "execution_count": 27,
   "metadata": {},
   "outputs": [
    {
     "name": "stdout",
     "output_type": "stream",
     "text": [
      "Introduction to Advanced Python Modules.ipynb\r\n",
      "Opening and Reading Files and Folders (Python OS & shutil Modules).ipynb\r\n",
      "Python Collections Module.ipynb\r\n",
      "Python Datetime Module.ipynb\r\n",
      "Python Debugger.ipynb\r\n",
      "Python Math and Random Modules.ipynb\r\n",
      "Python Regular Expressions Part One.ipynb\r\n",
      "Python Regular Expressions Part Three.ipynb\r\n",
      "Python Regular Expressions Part Two.ipynb\r\n",
      "Timing your Python Code.ipynb\r\n",
      "Zipping and Unzipping files with Python.ipynb\r\n",
      "comp_file.zip\r\n",
      "example.zip\r\n",
      "\u001b[1m\u001b[34mextracted_content\u001b[m\u001b[m/\r\n",
      "fileone.txt\r\n",
      "filetwo.txt\r\n",
      "\u001b[1m\u001b[34mfinal_unzip\u001b[m\u001b[m/\r\n"
     ]
    }
   ],
   "source": [
    "ls"
   ]
  },
  {
   "cell_type": "code",
   "execution_count": null,
   "metadata": {},
   "outputs": [],
   "source": []
  }
 ],
 "metadata": {
  "kernelspec": {
   "display_name": "Python 3",
   "language": "python",
   "name": "python3"
  },
  "language_info": {
   "codemirror_mode": {
    "name": "ipython",
    "version": 3
   },
   "file_extension": ".py",
   "mimetype": "text/x-python",
   "name": "python",
   "nbconvert_exporter": "python",
   "pygments_lexer": "ipython3",
   "version": "3.6.8"
  }
 },
 "nbformat": 4,
 "nbformat_minor": 2
}
